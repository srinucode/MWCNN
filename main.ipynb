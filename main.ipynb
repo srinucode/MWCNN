{
 "cells": [
  {
   "cell_type": "code",
   "execution_count": 1,
   "id": "50af2fbe",
   "metadata": {},
   "outputs": [],
   "source": [
    "import torch\n",
    "from torchvision.transforms import ToTensor\n",
    "import matplotlib.pyplot as plt\n",
    "import torch.nn as nn\n",
    "import torch.optim as optim\n",
    "import torchvision.transforms as transforms\n",
    "import pandas as pd\n",
    "import os\n",
    "from PIL import Image\n",
    "from torch.utils.data import Dataset, DataLoader\n",
    "from torchvision.io import read_image\n",
    "import torch.nn.functional as F\n",
    "import pywt\n",
    "import numpy as np\n",
    "import torchvision.models as models\n"
   ]
  },
  {
   "cell_type": "code",
   "execution_count": 2,
   "id": "10b1d5ed",
   "metadata": {},
   "outputs": [],
   "source": [
    "transform = transforms.Compose([\n",
    "    transforms.Resize((224, 224)),\n",
    "    transforms.ToTensor(),\n",
    "    transforms.Normalize(mean=[0.485, 0.456, 0.406], std=[0.229, 0.224, 0.225])\n",
    "])\n"
   ]
  },
  {
   "cell_type": "code",
   "execution_count": 3,
   "id": "c391296e",
   "metadata": {},
   "outputs": [],
   "source": [
    "#Image load taks\n",
    "class ImageDataset(Dataset):\n",
    "    def __init__(self, csv_file, root_dir, transform=None):\n",
    "        self.labels_df = pd.read_csv(csv_file)\n",
    "        self.root_dir = root_dir\n",
    "        self.transform = transform\n",
    "\n",
    "    def __len__(self):\n",
    "        return len(self.labels_df)\n",
    "\n",
    "    def __getitem__(self, idx):\n",
    "        img_name = os.path.join(self.root_dir, self.labels_df.iloc[idx, 0])\n",
    "        image = Image.open(img_name).convert(\"RGB\")\n",
    "        label = self.labels_df.iloc[idx, 1]\n",
    "        \n",
    "        if self.transform:\n",
    "            image = self.transform(image)\n",
    "\n",
    "        return image, label\n"
   ]
  },
  {
   "cell_type": "code",
   "execution_count": 4,
   "id": "92328ebd",
   "metadata": {},
   "outputs": [
    {
     "name": "stdout",
     "output_type": "stream",
     "text": [
      "New file with 50 entries has been created.\n"
     ]
    }
   ],
   "source": [
    "# Load the original CSV file\n",
    "df = pd.read_csv('train/train_labels.csv')\n",
    "\n",
    "# Select 50 random entries\n",
    "df_sampled = df.sample(n=50)       #, random_state=42)\n",
    "\n",
    "# Save the new CSV file\n",
    "df_sampled.to_csv('train/sample_labels.csv', index=False)\n",
    "\n",
    "print(\"New file with 50 entries has been created.\")\n"
   ]
  },
  {
   "cell_type": "code",
   "execution_count": 5,
   "id": "c9f729c8",
   "metadata": {},
   "outputs": [],
   "source": [
    "\n",
    "train_dataset = ImageDataset(csv_file='train/sample_labels.csv', root_dir='train', transform=transform)\n",
    "train_dataloader = DataLoader(train_dataset, batch_size=10, shuffle=True, num_workers=4)\n"
   ]
  },
  {
   "cell_type": "code",
   "execution_count": 6,
   "id": "4e1de45f",
   "metadata": {},
   "outputs": [
    {
     "name": "stdout",
     "output_type": "stream",
     "text": [
      "New file with 50 entries has been created.\n"
     ]
    }
   ],
   "source": [
    "# Load the original CSV file\n",
    "df = pd.read_csv('test/test_labels.csv')\n",
    "\n",
    "# Select 50 random entries\n",
    "df_sampled = df.sample(n=50)      #, random_state=42)\n",
    "\n",
    "# Save the new CSV file\n",
    "df_sampled.to_csv('test/sample_labels.csv', index=False)\n",
    "\n",
    "print(\"New file with 50 entries has been created.\")"
   ]
  },
  {
   "cell_type": "code",
   "execution_count": 7,
   "id": "a3acf053",
   "metadata": {},
   "outputs": [],
   "source": [
    "\n",
    "test_dataset = ImageDataset(csv_file='test/sample_labels.csv', root_dir='test', transform=transform)\n",
    "test_dataloader = DataLoader(test_dataset, batch_size=10, shuffle=True, num_workers=4)\n",
    "\n"
   ]
  },
  {
   "cell_type": "code",
   "execution_count": 8,
   "id": "79dcd819",
   "metadata": {},
   "outputs": [],
   "source": [
    "\n",
    "\n",
    "# Define the DWT layer\n",
    "class DWT(nn.Module):\n",
    "    def __init__(self):\n",
    "        super(DWT, self).__init__()\n",
    "        self.requires_grad = False\n",
    "\n",
    "    def forward(self, x):\n",
    "        x = torch.mean(x, dim=1, keepdim=True)\n",
    "        \n",
    "        return dwt_init(x)\n",
    "\n",
    "def dwt_init(x):\n",
    "    x01 = x[:, :, 0::2, :] / 2\n",
    "    x02 = x[:, :, 1::2, :] / 2\n",
    "    x1 = x01[:, :, :, 0::2]\n",
    "    x2 = x02[:, :, :, 0::2]\n",
    "    x3 = x01[:, :, :, 1::2]\n",
    "    x4 = x02[:, :, :, 1::2]\n",
    "    x_LL = x1 + x2 + x3 + x4\n",
    "    x_HL = -x1 - x2 + x3 + x4\n",
    "    x_LH = -x1 + x2 - x3 + x4\n",
    "    x_HH = x1 - x2 - x3 + x4\n",
    "    return torch.cat((x_LL, x_HL, x_LH, x_HH), 1)\n"
   ]
  },
  {
   "cell_type": "code",
   "execution_count": 9,
   "id": "6471ebee",
   "metadata": {},
   "outputs": [],
   "source": [
    "class Block(nn.Module):\n",
    "    def __init__(self, in_channels=3, out_channels=64, wavelet='haar'):\n",
    "        super(Block, self).__init__()\n",
    "        \n",
    "        # Define the Conv2d layers\n",
    "        self.conv1 = nn.Conv2d(in_channels, out_channels, kernel_size=3, padding=1)\n",
    "        self.conv2 = nn.Conv2d(out_channels, out_channels, kernel_size=3, padding=1)\n",
    "        self.conv3 = nn.Conv2d(out_channels, out_channels, kernel_size=3, padding=1)\n",
    "        \n",
    "        # Define ReLU activation\n",
    "        self.relu = nn.ReLU(inplace=True)\n",
    "        self.dwt_layer = DWT()\n",
    "    \n",
    "    def forward(self, x):\n",
    "        # Apply 3 Conv2d layers with ReLU activations\n",
    "        x = self.relu(self.conv1(x))\n",
    "        x = self.relu(self.conv2(x))\n",
    "        x = self.relu(self.conv3(x))\n",
    "        #Apply DWT layer\n",
    "        x = self.dwt_layer(x)\n",
    "        \n",
    "        return x"
   ]
  },
  {
   "cell_type": "code",
   "execution_count": 10,
   "id": "2beec7cc",
   "metadata": {},
   "outputs": [],
   "source": [
    "\n",
    "class MWCNN(nn.Module):\n",
    "    def __init__(self, in_channels=3, out_channels=64, wavelet='haar'):\n",
    "        super(MWCNN, self).__init__()\n",
    "        #with Dwt\n",
    "        # Define two Block instances\n",
    "        self.block1 = Block(in_channels=in_channels, out_channels=out_channels, wavelet=wavelet)\n",
    "        self.block2 = Block(in_channels=4, out_channels=128, wavelet=wavelet)\n",
    "        self.block3 = Block(in_channels=4, out_channels=256, wavelet=wavelet)\n",
    "        self.block4 = Block(in_channels=4, out_channels=512, wavelet=wavelet)\n",
    "        self.block5 = Block(in_channels=4, out_channels=1024, wavelet=wavelet)\n",
    "        \n",
    "        self.fc1 = nn.Linear(4 * 7 * 7, 512)  # Adjust size according to input image size\n",
    "        self.fc2 = nn.Linear(512, 4)  # Assuming 10 classes for classification\n",
    "        \n",
    "    def forward(self, x):\n",
    "        # Pass input through the first Block\n",
    "        x = self.block1(x)\n",
    "    \n",
    "        x = self.block2(x)\n",
    "\n",
    "        x = self.block3(x)\n",
    "    \n",
    "        x = self.block4(x)\n",
    "    \n",
    "        x = self.block5(x)\n",
    "    \n",
    "\n",
    "        x = x.view(x.size(0), -1)  # Flatten the tensor\n",
    "        x = torch.relu(self.fc1(x))\n",
    "        x = self.fc2(x)\n",
    "        \n",
    "        return x"
   ]
  },
  {
   "cell_type": "code",
   "execution_count": 11,
   "id": "120b694a",
   "metadata": {},
   "outputs": [],
   "source": [
    "\n",
    "class Teacher(nn.Module):\n",
    "    def __init__(self, resnet18):\n",
    "        super(Teacher, self).__init__()\n",
    "        \n",
    "        # Initialize the two models\n",
    "        self.resnet18 = resnet18\n",
    "               \n",
    "    def forward(self, x):\n",
    "        \n",
    "        # Get predictions from ResNet18\n",
    "        resnet_pred = self.resnet18(x)\n",
    "        \n",
    "        return resnet_pred"
   ]
  },
  {
   "cell_type": "code",
   "execution_count": 12,
   "id": "158b8ff2",
   "metadata": {},
   "outputs": [],
   "source": [
    "\n",
    "def train(model, train_loader, epochs, learning_rate, device):\n",
    "    criterion = nn.CrossEntropyLoss()\n",
    "    optimizer = optim.Adam(model.parameters(), lr=learning_rate)\n",
    "\n",
    "    model.train()\n",
    "    losses = []\n",
    "\n",
    "    for epoch in range(epochs):\n",
    "        running_loss = 0.0\n",
    "        for data, target in train_loader:\n",
    "            # inputs: A collection of batch_size images\n",
    "            # labels: A vector of dimensionality batch_size with integers denoting class of each image\n",
    "            inputs, labels = data.to(device), target.to(device)\n",
    "            optimizer.zero_grad()\n",
    "            outputs = model(inputs)\n",
    "\n",
    "            # outputs: Output of the network for the collection of images. A tensor of dimensionality batch_size x num_classes\n",
    "            # labels: The actual labels of the images. Vector of dimensionality batch_size\n",
    "            loss = criterion(outputs, labels)\n",
    "            loss.backward()\n",
    "            optimizer.step()\n",
    "\n",
    "            running_loss += loss.item()\n",
    "\n",
    "        print(f\"Epoch {epoch+1}/{epochs}, Loss: {running_loss / len(train_loader)}\")\n",
    "        losses.append(running_loss)\n",
    "        # Iterate through each named parameter (weights) in the model\n",
    "        k = 0\n",
    "        # for name, param in model.named_parameters():\n",
    "        #     print(f\"Layer: {name} | Weights: {param.data}\")\n",
    "        #     k = k + 1\n",
    "        #     if k == 1:\n",
    "        #         break\n",
    "    return losses"
   ]
  },
  {
   "cell_type": "code",
   "execution_count": 13,
   "id": "17b405aa",
   "metadata": {},
   "outputs": [],
   "source": [
    "\n",
    "def train_knowledge_distillation(teacher, student, train_loader, epochs, learning_rate, T, soft_target_loss_weight, ce_loss_weight, device):\n",
    "    ce_loss = nn.CrossEntropyLoss()\n",
    "    optimizer = optim.Adam(student.parameters(), lr=learning_rate)\n",
    "\n",
    "    teacher.eval()  # Teacher set to evaluation mode\n",
    "    student.train() # Student to train mode\n",
    "    losses = []\n",
    "\n",
    "    for epoch in range(epochs):\n",
    "        running_loss = 0.0\n",
    "        for inputs, labels in train_loader:\n",
    "            inputs, labels = inputs.to(device), labels.to(device)\n",
    "\n",
    "            optimizer.zero_grad()\n",
    "\n",
    "            # Forward pass with the teacher model - do not save gradients here as we do not change the teacher's weights\n",
    "            with torch.no_grad():\n",
    "                teacher_logits = teacher(inputs)\n",
    "\n",
    "            # Forward pass with the student model\n",
    "            student_logits = student(inputs)\n",
    "\n",
    "            #Soften the student logits by applying softmax first and log() second\n",
    "            soft_targets = nn.functional.softmax(teacher_logits / T, dim=-1)\n",
    "            soft_prob = nn.functional.log_softmax(student_logits / T, dim=-1)\n",
    "\n",
    "            # Calculate the soft targets loss. Scaled by T**2 as suggested by the authors of the paper \"Distilling the knowledge in a neural network\"\n",
    "            soft_targets_loss = torch.sum(soft_targets * (soft_targets.log() - soft_prob)) / soft_prob.size()[0] * (T**2)\n",
    "\n",
    "            # Calculate the true label loss\n",
    "            label_loss = ce_loss(student_logits, labels)\n",
    "\n",
    "            # Weighted sum of the two losses\n",
    "            loss = soft_target_loss_weight * soft_targets_loss + ce_loss_weight * label_loss\n",
    "\n",
    "            loss.backward()\n",
    "            optimizer.step()\n",
    "\n",
    "            running_loss += loss.item()\n",
    "\n",
    "        print(f\"Epoch {epoch+1}/{epochs}, Loss: {running_loss / len(train_loader)}\")\n",
    "        losses.append(running_loss)\n",
    "        \n",
    "    return losses\n"
   ]
  },
  {
   "cell_type": "code",
   "execution_count": 14,
   "id": "09012a6b",
   "metadata": {},
   "outputs": [],
   "source": [
    "def test(model, test_loader, device):\n",
    "    model.to(device)\n",
    "    model.eval()\n",
    "\n",
    "    correct = 0\n",
    "    total = 0\n",
    "\n",
    "    with torch.no_grad():\n",
    "        for inputs, labels in test_loader:\n",
    "            inputs, labels = inputs.to(device), labels.to(device)\n",
    "\n",
    "            outputs = model(inputs)\n",
    "            _, predicted = torch.max(outputs.data, 1)\n",
    "\n",
    "            total += labels.size(0)\n",
    "            correct += (predicted == labels).sum().item()\n",
    "\n",
    "    accuracy = 100 * correct / total\n",
    "    print(f\"Test Accuracy: {accuracy:.2f}%\")\n",
    "    return accuracy"
   ]
  },
  {
   "cell_type": "code",
   "execution_count": 15,
   "id": "205fe6b3",
   "metadata": {},
   "outputs": [
    {
     "name": "stderr",
     "output_type": "stream",
     "text": [
      "/home/intern1/anaconda3/envs/envpytorch/lib/python3.7/site-packages/torchvision/models/_utils.py:209: UserWarning: The parameter 'pretrained' is deprecated since 0.13 and may be removed in the future, please use 'weights' instead.\n",
      "  f\"The parameter '{pretrained_param}' is deprecated since 0.13 and may be removed in the future, \"\n",
      "/home/intern1/anaconda3/envs/envpytorch/lib/python3.7/site-packages/torchvision/models/_utils.py:223: UserWarning: Arguments other than a weight enum or `None` for 'weights' are deprecated since 0.13 and may be removed in the future. The current behavior is equivalent to passing `weights=None`.\n",
      "  warnings.warn(msg)\n"
     ]
    }
   ],
   "source": [
    "\n",
    "# Initialize the ResNet18 model (pretrained on ImageNet)\n",
    "resnet18_model = models.resnet18(pretrained=False)\n",
    "\n",
    "# Modify the final layer of ResNet18 for the desired number of classes (assuming 10 classes)\n",
    "resnet18_model.fc = nn.Linear(resnet18_model.fc.in_features, 4)"
   ]
  },
  {
   "cell_type": "code",
   "execution_count": 16,
   "id": "0c2fbe58",
   "metadata": {},
   "outputs": [],
   "source": [
    "#torch.manual_seed(42)\n",
    "# Set the device to the desired GPU (e.g., GPU 0)\n",
    "device = torch.device(\"cuda:2\" if torch.cuda.is_available() else \"cpu\")\n",
    "teacher = Teacher(resnet18_model).to(device)\n",
    "student = MWCNN(in_channels=3, out_channels=64, wavelet='haar').to(device)"
   ]
  },
  {
   "cell_type": "code",
   "execution_count": 17,
   "id": "f93184e9",
   "metadata": {
    "scrolled": true
   },
   "outputs": [
    {
     "name": "stdout",
     "output_type": "stream",
     "text": [
      "Epoch 1/100, Loss: 11.873554158210755\n",
      "Epoch 2/100, Loss: 1.92475368976593\n",
      "Epoch 3/100, Loss: 2.2550023674964903\n",
      "Epoch 4/100, Loss: 2.0494012117385862\n",
      "Epoch 5/100, Loss: 1.1894927024841309\n",
      "Epoch 6/100, Loss: 1.425169825553894\n",
      "Epoch 7/100, Loss: 1.1738876819610595\n",
      "Epoch 8/100, Loss: 1.233798575401306\n",
      "Epoch 9/100, Loss: 1.4019312143325806\n",
      "Epoch 10/100, Loss: 1.3262563228607178\n",
      "Epoch 11/100, Loss: 1.252045464515686\n",
      "Epoch 12/100, Loss: 1.0178536534309388\n",
      "Epoch 13/100, Loss: 1.2767598628997803\n",
      "Epoch 14/100, Loss: 1.0140418887138367\n",
      "Epoch 15/100, Loss: 1.0624485969543458\n",
      "Epoch 16/100, Loss: 1.1052547216415405\n",
      "Epoch 17/100, Loss: 1.024882471561432\n",
      "Epoch 18/100, Loss: 1.3088295340538025\n",
      "Epoch 19/100, Loss: 1.0646619915962219\n",
      "Epoch 20/100, Loss: 0.9458852052688599\n",
      "Epoch 21/100, Loss: 0.9323419332504272\n",
      "Epoch 22/100, Loss: 0.8730276823043823\n",
      "Epoch 23/100, Loss: 0.9247563719749451\n",
      "Epoch 24/100, Loss: 1.0022771120071412\n",
      "Epoch 25/100, Loss: 0.9963290810585022\n",
      "Epoch 26/100, Loss: 1.0635855317115783\n",
      "Epoch 27/100, Loss: 1.1643211245536804\n",
      "Epoch 28/100, Loss: 0.9564545035362244\n",
      "Epoch 29/100, Loss: 0.845647394657135\n",
      "Epoch 30/100, Loss: 0.8440915763378143\n",
      "Epoch 31/100, Loss: 0.8179670453071595\n",
      "Epoch 32/100, Loss: 0.7799190402030944\n",
      "Epoch 33/100, Loss: 0.9746049284934998\n",
      "Epoch 34/100, Loss: 0.8710856199264526\n",
      "Epoch 35/100, Loss: 0.8618452906608581\n",
      "Epoch 36/100, Loss: 0.7408592224121093\n",
      "Epoch 37/100, Loss: 1.0679255843162536\n",
      "Epoch 38/100, Loss: 0.8166174769401551\n",
      "Epoch 39/100, Loss: 0.8121646761894226\n",
      "Epoch 40/100, Loss: 0.8227615356445312\n",
      "Epoch 41/100, Loss: 0.7228712439537048\n",
      "Epoch 42/100, Loss: 0.7745857238769531\n",
      "Epoch 43/100, Loss: 0.7805087208747864\n",
      "Epoch 44/100, Loss: 0.8821598529815674\n",
      "Epoch 45/100, Loss: 0.8927389264106751\n",
      "Epoch 46/100, Loss: 0.8722803473472596\n",
      "Epoch 47/100, Loss: 0.798790717124939\n",
      "Epoch 48/100, Loss: 0.8903111577033996\n",
      "Epoch 49/100, Loss: 0.7555685400962829\n",
      "Epoch 50/100, Loss: 0.8002638220787048\n",
      "Epoch 51/100, Loss: 0.8781565666198731\n",
      "Epoch 52/100, Loss: 0.6972577095031738\n",
      "Epoch 53/100, Loss: 0.7887013554573059\n",
      "Epoch 54/100, Loss: 0.8176185131072998\n",
      "Epoch 55/100, Loss: 0.678602808713913\n",
      "Epoch 56/100, Loss: 0.6360248446464538\n",
      "Epoch 57/100, Loss: 0.5780490159988403\n",
      "Epoch 58/100, Loss: 0.7756323754787445\n",
      "Epoch 59/100, Loss: 0.8779464840888977\n",
      "Epoch 60/100, Loss: 0.9082482099533081\n",
      "Epoch 61/100, Loss: 0.9045964121818543\n",
      "Epoch 62/100, Loss: 0.7343786060810089\n",
      "Epoch 63/100, Loss: 0.7415241241455078\n",
      "Epoch 64/100, Loss: 0.9422809600830078\n",
      "Epoch 65/100, Loss: 0.6983848452568054\n",
      "Epoch 66/100, Loss: 0.8388232827186585\n",
      "Epoch 67/100, Loss: 0.8408982515335083\n",
      "Epoch 68/100, Loss: 0.7841658473014832\n",
      "Epoch 69/100, Loss: 0.7672218441963196\n",
      "Epoch 70/100, Loss: 0.7730875074863434\n",
      "Epoch 71/100, Loss: 0.7126364827156066\n",
      "Epoch 72/100, Loss: 0.7779754996299744\n",
      "Epoch 73/100, Loss: 0.8367815017700195\n",
      "Epoch 74/100, Loss: 0.7558682799339295\n",
      "Epoch 75/100, Loss: 0.7862316489219665\n",
      "Epoch 76/100, Loss: 0.7299014925956726\n",
      "Epoch 77/100, Loss: 0.6807079911231995\n",
      "Epoch 78/100, Loss: 0.7721854448318481\n",
      "Epoch 79/100, Loss: 0.9769973039627076\n",
      "Epoch 80/100, Loss: 0.6251075804233551\n",
      "Epoch 81/100, Loss: 0.8069503724575042\n",
      "Epoch 82/100, Loss: 0.7424250602722168\n",
      "Epoch 83/100, Loss: 0.8672962427139282\n",
      "Epoch 84/100, Loss: 0.5513787150382996\n",
      "Epoch 85/100, Loss: 0.6441996335983277\n",
      "Epoch 86/100, Loss: 0.5480109810829162\n",
      "Epoch 87/100, Loss: 0.572690212726593\n",
      "Epoch 88/100, Loss: 0.6996876537799835\n",
      "Epoch 89/100, Loss: 0.6774431347846985\n",
      "Epoch 90/100, Loss: 0.5351786494255066\n",
      "Epoch 91/100, Loss: 0.6360826909542083\n",
      "Epoch 92/100, Loss: 0.7079184293746948\n",
      "Epoch 93/100, Loss: 0.8582699060440063\n",
      "Epoch 94/100, Loss: 0.7838567197322845\n",
      "Epoch 95/100, Loss: 0.6517105996608734\n",
      "Epoch 96/100, Loss: 0.8196066677570343\n",
      "Epoch 97/100, Loss: 0.6729766488075256\n",
      "Epoch 98/100, Loss: 0.7336299419403076\n",
      "Epoch 99/100, Loss: 0.6898514211177826\n",
      "Epoch 100/100, Loss: 0.7272785902023315\n",
      "Test Accuracy: 32.00%\n"
     ]
    }
   ],
   "source": [
    "\n",
    "# nn_deep = DeepNN(num_classes=10).to(device)\n",
    "teacher_losses = train(teacher, train_dataloader, epochs=100, learning_rate=0.05, device=device)\n",
    "test_accuracy_teacher = test(teacher, test_dataloader, device)"
   ]
  },
  {
   "cell_type": "code",
   "execution_count": 18,
   "id": "5e9cee1e",
   "metadata": {},
   "outputs": [
    {
     "name": "stdout",
     "output_type": "stream",
     "text": [
      "Test Accuracy: 32.00%\n"
     ]
    }
   ],
   "source": [
    "test_accuracy_teacher = test(teacher, test_dataloader, device)"
   ]
  },
  {
   "cell_type": "code",
   "execution_count": 19,
   "id": "40e14ea0",
   "metadata": {
    "scrolled": true
   },
   "outputs": [
    {
     "name": "stdout",
     "output_type": "stream",
     "text": [
      "Epoch 1/100, Loss: 22372.732557058334\n",
      "Epoch 2/100, Loss: 2.5826849222183226\n",
      "Epoch 3/100, Loss: 1.281933641433716\n",
      "Epoch 4/100, Loss: 1.243755054473877\n",
      "Epoch 5/100, Loss: 1.2418089866638184\n",
      "Epoch 6/100, Loss: 1.2442756175994873\n",
      "Epoch 7/100, Loss: 1.2543241500854492\n",
      "Epoch 8/100, Loss: 1.2411187887191772\n",
      "Epoch 9/100, Loss: 1.2437463521957397\n",
      "Epoch 10/100, Loss: 1.2415759086608886\n",
      "Epoch 11/100, Loss: 1.240998888015747\n",
      "Epoch 12/100, Loss: 1.2433966398239136\n",
      "Epoch 13/100, Loss: 1.2439113140106202\n",
      "Epoch 14/100, Loss: 1.2436015129089355\n",
      "Epoch 15/100, Loss: 1.2391072750091552\n",
      "Epoch 16/100, Loss: 1.2399058580398559\n",
      "Epoch 17/100, Loss: 1.2405001640319824\n",
      "Epoch 18/100, Loss: 1.2413580656051635\n",
      "Epoch 19/100, Loss: 1.241794180870056\n",
      "Epoch 20/100, Loss: 1.2400852203369142\n",
      "Epoch 21/100, Loss: 1.2435759067535401\n",
      "Epoch 22/100, Loss: 1.2444658041000367\n",
      "Epoch 23/100, Loss: 1.2436664342880248\n",
      "Epoch 24/100, Loss: 1.243255352973938\n",
      "Epoch 25/100, Loss: 1.2412028551101684\n",
      "Epoch 26/100, Loss: 1.2416067600250245\n",
      "Epoch 27/100, Loss: 1.2403803825378419\n",
      "Epoch 28/100, Loss: 1.2410136699676513\n",
      "Epoch 29/100, Loss: 1.2401067972183228\n",
      "Epoch 30/100, Loss: 1.2452120542526246\n",
      "Epoch 31/100, Loss: 1.2396900653839111\n",
      "Epoch 32/100, Loss: 1.2393821001052856\n",
      "Epoch 33/100, Loss: 1.244695281982422\n",
      "Epoch 34/100, Loss: 1.2405156135559081\n",
      "Epoch 35/100, Loss: 1.2395595550537108\n",
      "Epoch 36/100, Loss: 1.2410062313079835\n",
      "Epoch 37/100, Loss: 1.240177536010742\n",
      "Epoch 38/100, Loss: 1.242812991142273\n",
      "Epoch 39/100, Loss: 1.2387571334838867\n",
      "Epoch 40/100, Loss: 1.239456057548523\n",
      "Epoch 41/100, Loss: 1.2410963535308839\n",
      "Epoch 42/100, Loss: 1.2397449254989623\n",
      "Epoch 43/100, Loss: 1.2397686958312988\n",
      "Epoch 44/100, Loss: 1.2410505771636964\n",
      "Epoch 45/100, Loss: 1.241754984855652\n",
      "Epoch 46/100, Loss: 1.2429387807846068\n",
      "Epoch 47/100, Loss: 1.2429869651794434\n",
      "Epoch 48/100, Loss: 1.2429649114608765\n",
      "Epoch 49/100, Loss: 1.2401522397994995\n",
      "Epoch 50/100, Loss: 1.2401812314987182\n",
      "Epoch 51/100, Loss: 1.23928062915802\n",
      "Epoch 52/100, Loss: 1.2412005424499513\n",
      "Epoch 53/100, Loss: 1.2399425268173219\n",
      "Epoch 54/100, Loss: 1.2395702600479126\n",
      "Epoch 55/100, Loss: 1.239239478111267\n",
      "Epoch 56/100, Loss: 1.241880202293396\n",
      "Epoch 57/100, Loss: 1.2424101829528809\n",
      "Epoch 58/100, Loss: 1.239177656173706\n",
      "Epoch 59/100, Loss: 1.2392766952514649\n",
      "Epoch 60/100, Loss: 1.2400391578674317\n",
      "Epoch 61/100, Loss: 1.2440772294998168\n",
      "Epoch 62/100, Loss: 1.239956545829773\n",
      "Epoch 63/100, Loss: 1.2386893510818482\n",
      "Epoch 64/100, Loss: 1.240034246444702\n",
      "Epoch 65/100, Loss: 1.2389167070388794\n",
      "Epoch 66/100, Loss: 1.2391038179397582\n",
      "Epoch 67/100, Loss: 1.2397034645080567\n",
      "Epoch 68/100, Loss: 1.2394169569015503\n",
      "Epoch 69/100, Loss: 1.2395848989486695\n",
      "Epoch 70/100, Loss: 1.2411937236785888\n",
      "Epoch 71/100, Loss: 1.2402230501174927\n",
      "Epoch 72/100, Loss: 1.2408243417739868\n",
      "Epoch 73/100, Loss: 1.2393952131271362\n",
      "Epoch 74/100, Loss: 1.2394535303115846\n",
      "Epoch 75/100, Loss: 1.2412977695465088\n",
      "Epoch 76/100, Loss: 1.2398388147354127\n",
      "Epoch 77/100, Loss: 1.2393255233764648\n",
      "Epoch 78/100, Loss: 1.239069366455078\n",
      "Epoch 79/100, Loss: 1.2393012523651123\n",
      "Epoch 80/100, Loss: 1.2394487857818604\n",
      "Epoch 81/100, Loss: 1.2429180860519409\n",
      "Epoch 82/100, Loss: 1.2389899730682372\n",
      "Epoch 83/100, Loss: 1.238700008392334\n",
      "Epoch 84/100, Loss: 1.2415902614593506\n",
      "Epoch 85/100, Loss: 1.2398063898086549\n",
      "Epoch 86/100, Loss: 1.2392853498458862\n",
      "Epoch 87/100, Loss: 1.241941785812378\n",
      "Epoch 88/100, Loss: 1.2407476425170898\n",
      "Epoch 89/100, Loss: 1.2401567459106446\n",
      "Epoch 90/100, Loss: 1.2393307209014892\n",
      "Epoch 91/100, Loss: 1.2389927864074708\n",
      "Epoch 92/100, Loss: 1.2410223960876465\n",
      "Epoch 93/100, Loss: 1.240377378463745\n",
      "Epoch 94/100, Loss: 1.2412708759307862\n",
      "Epoch 95/100, Loss: 1.2402395963668824\n",
      "Epoch 96/100, Loss: 1.2401220798492432\n",
      "Epoch 97/100, Loss: 1.2388948678970337\n",
      "Epoch 98/100, Loss: 1.2394051551818848\n",
      "Epoch 99/100, Loss: 1.2405416011810302\n",
      "Epoch 100/100, Loss: 1.2433568716049195\n",
      "Test Accuracy: 44.00%\n"
     ]
    }
   ],
   "source": [
    "\n",
    "# Apply ``train_knowledge_distillation`` with a temperature of 2. Arbitrarily set the weights to 0.75 for CE and 0.25 for distillation loss.\n",
    "losses_student_KD = train_knowledge_distillation(teacher=teacher, student=student, train_loader=train_dataloader, epochs=100, learning_rate=0.05, T=2, soft_target_loss_weight=0.25, ce_loss_weight=0.75, device=device)\n",
    "test_accuracy_student_ce_and_kd = test(student, test_dataloader, device)"
   ]
  },
  {
   "cell_type": "code",
   "execution_count": 24,
   "id": "05e9db55",
   "metadata": {},
   "outputs": [
    {
     "name": "stdout",
     "output_type": "stream",
     "text": [
      "Variables saved to accuracies.csv\n"
     ]
    }
   ],
   "source": [
    "\n",
    "# Creating a dictionary\n",
    "data = {\n",
    "    'Variable': ['test_accuracy_teacher', 'test_accuracy_student_ce_and_kd'],\n",
    "    'Value': [test_accuracy_teacher, test_accuracy_student_ce_and_kd]\n",
    "}\n",
    "\n",
    "# Creating a DataFrame\n",
    "df = pd.DataFrame(data)\n",
    "\n",
    "# Saving to CSV\n",
    "filename = 'accuracies.csv'\n",
    "df.to_csv(filename, index=False)\n",
    "\n",
    "print(f'Variables saved to {filename}')"
   ]
  },
  {
   "cell_type": "code",
   "execution_count": 20,
   "id": "de7db916",
   "metadata": {},
   "outputs": [
    {
     "data": {
      "image/png": "[encoded data removed]",
      "text/plain": [
       "<Figure size 640x480 with 1 Axes>"
      ]
     },
     "metadata": {},
     "output_type": "display_data"
    }
   ],
   "source": [
    "import matplotlib.pyplot as plt\n",
    "\n",
    "# # Example lists of losses (replace with your actual lists)\n",
    "# teacher_losses = [0.9, 0.85, 0.8, 0.78, 0.75, 0.7, 0.65, 0.63, 0.6, 0.58]\n",
    "# losses_student_KD = [0.88, 0.82, 0.78, 0.74, 0.71, 0.68, 0.64, 0.61, 0.59, 0.56]\n",
    "\n",
    "# Step 1: Plot teacher losses\n",
    "plt.plot(teacher_losses, marker='o', linestyle='-', color='b', label='Teacher Loss')\n",
    "\n",
    "# Step 2: Plot student KD losses\n",
    "plt.plot(losses_student_KD, marker='x', linestyle='--', color='r', label='Student KD Loss')\n",
    "\n",
    "# Step 3: Add titles and labels\n",
    "plt.title('Teacher vs Student KD Losses')\n",
    "plt.xlabel('Epoch')\n",
    "plt.ylabel('Loss')\n",
    "\n",
    "# Step 4: Add a legend\n",
    "plt.legend()\n",
    "\n",
    "# Step 5: Save the plot to the current folder\n",
    "plt.savefig('teacher_vs_student_KD_loss_plot.png')\n",
    "\n",
    "# Step 6: Show the plot (optional)\n",
    "plt.show()\n"
   ]
  },
  {
   "cell_type": "code",
   "execution_count": 21,
   "id": "b6d89920",
   "metadata": {},
   "outputs": [
    {
     "data": {
      "image/png": "[encoded data removed]",
      "text/plain": [
       "<Figure size 640x480 with 1 Axes>"
      ]
     },
     "metadata": {},
     "output_type": "display_data"
    }
   ],
   "source": [
    "import matplotlib.pyplot as plt\n",
    "\n",
    "\n",
    "# Step 1: Plot the losses\n",
    "plt.plot(teacher_losses, marker='o', linestyle='-', color='b')\n",
    "\n",
    "# Step 2: Add titles and labels\n",
    "plt.title('Training Loss Over Time')\n",
    "plt.xlabel('Epoch')\n",
    "plt.ylabel('Loss')\n",
    "\n",
    "# Step 3: Save the plot to the current folder\n",
    "plt.savefig('loss_plot.png')\n",
    "\n",
    "# Step 4: Show the plot (optional)\n",
    "plt.show()\n"
   ]
  },
  {
   "cell_type": "code",
   "execution_count": 22,
   "id": "b7889559",
   "metadata": {},
   "outputs": [
    {
     "name": "stdout",
     "output_type": "stream",
     "text": [
      "torch.Size([10, 4])\n"
     ]
    }
   ],
   "source": [
    "k = 0\n",
    "for images, target in train_dataloader:\n",
    "    mwcnn = MWCNN()\n",
    "    output = mwcnn(images)\n",
    "    print(output.shape)\n",
    "    k = k + 1\n",
    "    if k == 1:\n",
    "        break\n",
    "    "
   ]
  },
  {
   "cell_type": "code",
   "execution_count": 23,
   "id": "bafb5af5",
   "metadata": {},
   "outputs": [
    {
     "name": "stdout",
     "output_type": "stream",
     "text": [
      "torch.Size([10, 3, 224, 224])\n",
      "torch.Size([10, 1, 224, 224])\n"
     ]
    }
   ],
   "source": [
    "import torch\n",
    "\n",
    "# Example tensor of shape [10, 3, 224, 224]\n",
    "tensor_batch = torch.rand(10, 3, 224, 224)  # Replace with your actual tensor\n",
    "print(tensor_batch.shape)\n",
    "\n",
    "\n",
    "# Step 1: Take the mean across the channel dimension (dim=1)\n",
    "tensor_avg = torch.mean(tensor_batch, dim=1, keepdim=True)  # Resulting shape will be [10, 1, 224, 224]\n",
    "\n",
    "# The tensor_avg now has the shape [10, 1, 224, 224]\n",
    "print(tensor_avg.shape)\n"
   ]
  }
 ],
 "metadata": {
  "kernelspec": {
   "display_name": "Python (envpytorch)",
   "language": "python",
   "name": "envpytorch"
  },
  "language_info": {
   "codemirror_mode": {
    "name": "ipython",
    "version": 3
   },
   "file_extension": ".py",
   "mimetype": "text/x-python",
   "name": "python",
   "nbconvert_exporter": "python",
   "pygments_lexer": "ipython3",
   "version": "3.7.3"
  }
 },
 "nbformat": 4,
 "nbformat_minor": 5
}
