{
 "cells": [
  {
   "cell_type": "code",
   "execution_count": 1,
   "id": "dca49dc3",
   "metadata": {},
   "outputs": [],
   "source": [
    "import torch\n",
    "from torchvision.transforms import ToTensor\n",
    "import matplotlib.pyplot as plt\n",
    "import torch.nn as nn\n",
    "import torch.optim as optim\n",
    "import torchvision.transforms as transforms\n",
    "import pandas as pd\n",
    "import os\n",
    "from PIL import Image\n",
    "from torch.utils.data import Dataset, DataLoader\n",
    "from torchvision.io import read_image\n",
    "import torch.nn.functional as F\n",
    "import pywt\n",
    "import numpy as np\n",
    "import torchvision.models as models\n"
   ]
  },
  {
   "cell_type": "code",
   "execution_count": 2,
   "id": "8ab83aec",
   "metadata": {},
   "outputs": [],
   "source": [
    "\n",
    "\n",
    "# Define the Block class with activation after each Conv2d layer\n",
    "class Block(nn.Module):\n",
    "    def __init__(self, in_channels, out_channels):\n",
    "        super(Block, self).__init__()\n",
    "        self.conv1 = nn.Conv2d(in_channels, out_channels, kernel_size=3, padding=1)\n",
    "        self.conv2 = nn.Conv2d(out_channels, out_channels, kernel_size=3, padding=1)\n",
    "        self.conv3 = nn.Conv2d(out_channels, out_channels, kernel_size=3, padding=1)\n",
    "        self.relu = nn.ReLU()\n",
    "        self.pool = nn.MaxPool2d(kernel_size=2, stride=2)\n",
    "\n",
    "    def forward(self, x):\n",
    "        x = self.relu(self.conv1(x))\n",
    "        x = self.relu(self.conv2(x))\n",
    "        x = self.relu(self.conv3(x))\n",
    "        x = self.pool(x)\n",
    "        return x\n",
    "\n",
    "# Define the CNN model\n",
    "class CNNModel(nn.Module):\n",
    "    def __init__(self):\n",
    "        super(CNNModel, self).__init__()\n",
    "        self.block1 = Block(3, 64)\n",
    "        self.block2 = Block(64, 128)\n",
    "        self.block3 = Block(128, 256)\n",
    "        self.block4 = Block(256, 512)\n",
    "        self.block5 = Block(512, 512)\n",
    "        \n",
    "        self.fc1 = nn.Linear(512 * 7 * 7, 1024)\n",
    "        self.fc2 = nn.Linear(1024, 4)\n",
    "        \n",
    "    def forward(self, x):\n",
    "        x = self.block1(x)\n",
    "        x = self.block2(x)\n",
    "        x = self.block3(x)\n",
    "        x = self.block4(x)\n",
    "        x = self.block5(x)\n",
    "        x = x.view(x.size(0), -1)  # Flatten the tensor\n",
    "        x = F.relu(self.fc1(x))\n",
    "        x = self.fc2(x)\n",
    "        return x\n",
    "\n",
    "\n",
    "\n",
    "# # Define the loss function and optimizer\n",
    "# criterion = nn.CrossEntropyLoss()\n",
    "# optimizer = optim.Adam(model.parameters(), lr=0.001)\n",
    "\n",
    "# # Generate dummy data\n",
    "# batch_size = 1\n",
    "# dummy_images = torch.randn(batch_size, 3, 224, 224)  # Random images\n",
    "# dummy_labels = torch.randint(0, 4, (batch_size,))  # Random labels for 4 classes\n",
    "\n",
    "# # Number of epochs\n",
    "# epochs = 10\n",
    "\n",
    "# # List to store loss values\n"
   ]
  },
  {
   "cell_type": "code",
   "execution_count": 3,
   "id": "34d0446e",
   "metadata": {},
   "outputs": [],
   "source": [
    "transform = transforms.Compose([\n",
    "    transforms.Resize((224, 224)),\n",
    "    transforms.ToTensor(),\n",
    "    transforms.Normalize(mean=[0.485, 0.456, 0.406], std=[0.229, 0.224, 0.225])\n",
    "])\n"
   ]
  },
  {
   "cell_type": "code",
   "execution_count": 4,
   "id": "cb8f89ec",
   "metadata": {},
   "outputs": [],
   "source": [
    "#Image load taks\n",
    "class ImageDataset(Dataset):\n",
    "    def __init__(self, csv_file, root_dir, transform=None):\n",
    "        self.labels_df = pd.read_csv(csv_file)\n",
    "        self.root_dir = root_dir\n",
    "        self.transform = transform\n",
    "\n",
    "    def __len__(self):\n",
    "        return len(self.labels_df)\n",
    "\n",
    "    def __getitem__(self, idx):\n",
    "        img_name = os.path.join(self.root_dir, self.labels_df.iloc[idx, 0])\n",
    "        image = Image.open(img_name).convert(\"RGB\")\n",
    "        label = self.labels_df.iloc[idx, 1]\n",
    "        \n",
    "        if self.transform:\n",
    "            image = self.transform(image)\n",
    "\n",
    "        return image, label\n"
   ]
  },
  {
   "cell_type": "code",
   "execution_count": 5,
   "id": "bf0f36bf",
   "metadata": {},
   "outputs": [],
   "source": [
    "# # Load the original CSV file\n",
    "# df = pd.read_csv('train/train_labels.csv')\n",
    "\n",
    "# # Select 50 random entries\n",
    "# df_sampled = df.sample(n=50)       #, random_state=42)\n",
    "\n",
    "# # Save the new CSV file\n",
    "# df_sampled.to_csv('train/sample_labels.csv', index=False)\n",
    "\n",
    "# print(\"New file with 50 entries has been created.\")"
   ]
  },
  {
   "cell_type": "code",
   "execution_count": 6,
   "id": "2bd01bd6",
   "metadata": {},
   "outputs": [],
   "source": [
    "\n",
    "train_dataset = ImageDataset(csv_file='train/train_labels.csv', root_dir='train', transform=transform)\n",
    "train_dataloader = DataLoader(train_dataset, batch_size=10, shuffle=True, num_workers=4)\n"
   ]
  },
  {
   "cell_type": "code",
   "execution_count": 7,
   "id": "ccafe2ca",
   "metadata": {},
   "outputs": [],
   "source": [
    "# # Load the original CSV file\n",
    "# df = pd.read_csv('test/test_labels.csv')\n",
    "\n",
    "# # Select 50 random entries\n",
    "# df_sampled = df.sample(n=50)      #, random_state=42)\n",
    "\n",
    "# # Save the new CSV file\n",
    "# df_sampled.to_csv('test/sample_labels.csv', index=False)\n",
    "\n",
    "# print(\"New file with 50 entries has been created.\")"
   ]
  },
  {
   "cell_type": "code",
   "execution_count": 8,
   "id": "05a99e58",
   "metadata": {},
   "outputs": [],
   "source": [
    "\n",
    "test_dataset = ImageDataset(csv_file='test/test_labels.csv', root_dir='test', transform=transform)\n",
    "test_dataloader = DataLoader(test_dataset, batch_size=10, shuffle=True, num_workers=4)\n",
    "\n"
   ]
  },
  {
   "cell_type": "code",
   "execution_count": 9,
   "id": "84b938a8",
   "metadata": {},
   "outputs": [],
   "source": [
    "device = torch.device(\"cuda:2\" if torch.cuda.is_available() else \"cpu\")\n",
    "\n",
    "# Instantiate the model\n",
    "model = CNNModel().to(device)"
   ]
  },
  {
   "cell_type": "code",
   "execution_count": 10,
   "id": "63e30351",
   "metadata": {},
   "outputs": [],
   "source": [
    "\n",
    "def train(model, train_loader, epochs, learning_rate, device):\n",
    "    criterion = nn.CrossEntropyLoss()\n",
    "    optimizer = optim.Adam(model.parameters(), lr=learning_rate)\n",
    "\n",
    "    model.train()\n",
    "    losses = []\n",
    "\n",
    "    for epoch in range(epochs):\n",
    "        running_loss = 0.0\n",
    "        for data, target in train_loader:\n",
    "            # inputs: A collection of batch_size images\n",
    "            # labels: A vector of dimensionality batch_size with integers denoting class of each image\n",
    "            inputs, labels = data.to(device), target.to(device)\n",
    "            optimizer.zero_grad()\n",
    "            outputs = model(inputs)\n",
    "\n",
    "            # outputs: Output of the network for the collection of images. A tensor of dimensionality batch_size x num_classes\n",
    "            # labels: The actual labels of the images. Vector of dimensionality batch_size\n",
    "            loss = criterion(outputs, labels)\n",
    "            loss.backward()\n",
    "            optimizer.step()\n",
    "\n",
    "            running_loss += loss.item()\n",
    "\n",
    "        print(f\"Epoch {epoch+1}/{epochs}, Loss: {running_loss}\")\n",
    "        losses.append(running_loss)\n",
    "        # Iterate through each named parameter (weights) in the model\n",
    "    return losses"
   ]
  },
  {
   "cell_type": "code",
   "execution_count": 11,
   "id": "8aad6b47",
   "metadata": {
    "scrolled": true
   },
   "outputs": [
    {
     "name": "stdout",
     "output_type": "stream",
     "text": [
      "Epoch 1/5, Loss: 7.559207437276552e+20\n",
      "Epoch 2/5, Loss: 489.2448674440384\n",
      "Epoch 3/5, Loss: 489.68171536922455\n",
      "Epoch 4/5, Loss: 490.61091554164886\n",
      "Epoch 5/5, Loss: 490.7875597476959\n"
     ]
    }
   ],
   "source": [
    "losses = train(model, train_dataloader, epochs=5, learning_rate=0.05, device=device)"
   ]
  },
  {
   "cell_type": "code",
   "execution_count": 12,
   "id": "1c6f9379",
   "metadata": {
    "scrolled": true
   },
   "outputs": [],
   "source": [
    "# print('Finished Training')\n",
    "\n",
    "# # Plot the training loss\n",
    "# plt.plot(losses)\n",
    "# plt.xlabel('Batch Number')\n",
    "# plt.ylabel('Loss')\n",
    "# plt.title('Training Loss over Batches')\n",
    "# plt.show()"
   ]
  },
  {
   "cell_type": "code",
   "execution_count": 13,
   "id": "affd5b45",
   "metadata": {},
   "outputs": [
    {
     "data": {
      "image/png": "[encoded data removed]",
      "text/plain": [
       "<Figure size 640x480 with 1 Axes>"
      ]
     },
     "metadata": {},
     "output_type": "display_data"
    }
   ],
   "source": [
    "import matplotlib.pyplot as plt\n",
    "\n",
    "# # Example lists of losses (replace with your actual lists)\n",
    "# teacher_losses = [0.9, 0.85, 0.8, 0.78, 0.75, 0.7, 0.65, 0.63, 0.6, 0.58]\n",
    "# losses_student_KD = [0.88, 0.82, 0.78, 0.74, 0.71, 0.68, 0.64, 0.61, 0.59, 0.56]\n",
    "\n",
    "# Step 1: Plot teacher losses\n",
    "plt.plot(losses, marker='o', linestyle='-', color='b', label='Vanilla_cnn Loss')\n",
    "\n",
    "\n",
    "# Step 3: Add titles and labels\n",
    "plt.title('Losses')\n",
    "plt.xlabel('Epoch')\n",
    "plt.ylabel('Loss')\n",
    "\n",
    "# Step 4: Add a legend\n",
    "plt.legend()\n",
    "\n",
    "# Step 5: Save the plot to the current folder\n",
    "plt.savefig('vanilla_cnn_plot.png')\n",
    "\n",
    "# Step 6: Show the plot (optional)\n",
    "plt.show()"
   ]
  }
 ],
 "metadata": {
  "kernelspec": {
   "display_name": "Python (envpytorch)",
   "language": "python",
   "name": "envpytorch"
  },
  "language_info": {
   "codemirror_mode": {
    "name": "ipython",
    "version": 3
   },
   "file_extension": ".py",
   "mimetype": "text/x-python",
   "name": "python",
   "nbconvert_exporter": "python",
   "pygments_lexer": "ipython3",
   "version": "3.7.3"
  }
 },
 "nbformat": 4,
 "nbformat_minor": 5
}
